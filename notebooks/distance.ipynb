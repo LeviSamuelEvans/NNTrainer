{
 "cells": [
  {
   "cell_type": "code",
   "execution_count": 8,
   "metadata": {},
   "outputs": [
    {
     "name": "stdout",
     "output_type": "stream",
     "text": [
      "Max distance: 2\n"
     ]
    }
   ],
   "source": [
    "import networkx as nx\n",
    "import numpy as np\n",
    "import torch\n",
    "\n",
    "def calculate_max_distance(edge_index, num_nodes):\n",
    "    G = nx.Graph()\n",
    "    edge_list = edge_index.t().tolist()\n",
    "    G.add_edges_from([(edge[0], edge[1]) for edge in edge_list])\n",
    "    spd_matrix = dict(nx.all_pairs_shortest_path_length(G))\n",
    "\n",
    "    # SPD matrix is a dictionary of dictionaries, where the key is the source node and the value is another dictionary\n",
    "    max_distance = -1\n",
    "    for i in range(num_nodes):\n",
    "        for j in range(num_nodes):\n",
    "            if i != j:\n",
    "                spd = spd_matrix.get(i, {}).get(j, -1)\n",
    "                if spd > max_distance:\n",
    "                    max_distance = spd\n",
    "\n",
    "    return max_distance\n",
    "\n",
    "\n",
    "edge_index = torch.tensor([[0, 1], [1, 2], [2, 3], [3, 4], [4, 5], [5, 0]])\n",
    "num_nodes = 6\n",
    "\n",
    "max_distance = calculate_max_distance(edge_index, num_nodes)\n",
    "print(f\"Max distance: {max_distance}\")\n"
   ]
  }
 ],
 "metadata": {
  "kernelspec": {
   "display_name": "MLenv",
   "language": "python",
   "name": "python3"
  },
  "language_info": {
   "codemirror_mode": {
    "name": "ipython",
    "version": 3
   },
   "file_extension": ".py",
   "mimetype": "text/x-python",
   "name": "python",
   "nbconvert_exporter": "python",
   "pygments_lexer": "ipython3",
   "version": "3.9.18"
  }
 },
 "nbformat": 4,
 "nbformat_minor": 2
}
